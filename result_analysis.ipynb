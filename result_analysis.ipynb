{
 "cells": [
  {
   "cell_type": "code",
   "execution_count": 10,
   "id": "c79e87de-adf8-4b85-9670-c0720452b440",
   "metadata": {},
   "outputs": [
    {
     "name": "stdout",
     "output_type": "stream",
     "text": [
      "l13f: 0.5111111111111111\n",
      "l20f: 0.5159722222222222\n",
      "l30f: 0.513888888888889\n",
      "l13r: 0.5230654761904762\n",
      "l20r: 0.5386904761904762\n",
      "l30r: 0.5505952380952381\n",
      "\n",
      "s13f: 0.4798611111111111\n",
      "s20f: 0.5\n",
      "s30f: 0.5131944444444444\n",
      "s13r: 0.5081845238095238\n",
      "s20r: 0.5245535714285715\n",
      "s30r: 0.5446428571428572\n",
      "\n",
      "svc mean acc: 0.511739417989418\n",
      "log mean acc: 0.5255539021164021\n"
     ]
    }
   ],
   "source": [
    "import pandas as pd\n",
    "import numpy as np\n",
    "import matplotlib.pyplot as plt\n",
    "import seaborn as sns\n",
    "\n",
    "log13f = np.load(\"results/resultsLOG13Full.npy\", allow_pickle=True)\n",
    "log20f = np.load(\"results/resultsLOG20Full.npy\", allow_pickle=True)\n",
    "log30f = np.load(\"results/resultsLOG30Full.npy\", allow_pickle=True)\n",
    "\n",
    "log13r = np.load(\"results/resultsLOG13Reduced.npy\", allow_pickle=True)\n",
    "log20r = np.load(\"results/resultsLOG20Reduced.npy\", allow_pickle=True)\n",
    "log30r = np.load(\"results/resultsLOG30Reduced.npy\", allow_pickle=True)\n",
    "\n",
    "svc13f = np.load(\"results/resultsSVC13Full.npy\", allow_pickle=True)\n",
    "svc20f = np.load(\"results/resultsSVC20Full.npy\", allow_pickle=True)\n",
    "svc30f = np.load(\"results/resultsSVC30Full.npy\", allow_pickle=True)\n",
    "\n",
    "svc13r = np.load(\"results/resultsSVC13Reduced.npy\", allow_pickle=True)\n",
    "svc20r = np.load(\"results/resultsSVC20Reduced.npy\", allow_pickle=True)\n",
    "svc30r = np.load(\"results/resultsSVC30Reduced.npy\", allow_pickle=True)\n",
    "\n",
    "acc_l13f = np.mean([r[\"accuracy\"] for r in log13f])\n",
    "acc_l20f = np.mean([r[\"accuracy\"] for r in log20f])\n",
    "acc_l30f = np.mean([r[\"accuracy\"] for r in log30f])\n",
    "\n",
    "acc_l13r = np.mean([r[\"accuracy\"] for r in log13r])\n",
    "acc_l20r = np.mean([r[\"accuracy\"] for r in log20r])\n",
    "acc_l30r = np.mean([r[\"accuracy\"] for r in log30r])\n",
    "\n",
    "acc_s13f = np.mean([r[\"accuracy\"] for r in svc13f])\n",
    "acc_s20f = np.mean([r[\"accuracy\"] for r in svc20f])\n",
    "acc_s30f = np.mean([r[\"accuracy\"] for r in svc30f])\n",
    "\n",
    "acc_s13r = np.mean([r[\"accuracy\"] for r in svc13r])\n",
    "acc_s20r = np.mean([r[\"accuracy\"] for r in svc20r])\n",
    "acc_s30r = np.mean([r[\"accuracy\"] for r in svc30r])\n",
    "\n",
    "print(f\"l13f: {acc_l13f}\\nl20f: {acc_l20f}\\nl30f: {acc_l30f}\")\n",
    "print(f\"l13r: {acc_l13r}\\nl20r: {acc_l20r}\\nl30r: {acc_l30r}\\n\")\n",
    "\n",
    "print(f\"s13f: {acc_s13f}\\ns20f: {acc_s20f}\\ns30f: {acc_s30f}\")\n",
    "print(f\"s13r: {acc_s13r}\\ns20r: {acc_s20r}\\ns30r: {acc_s30r}\\n\")\n",
    "\n",
    "print(f\"svc mean acc: {np.mean([acc_s13f, acc_s20f, acc_s30f, acc_s13r, acc_s20r, acc_s30r])}\")\n",
    "print(f\"log mean acc: {np.mean([acc_l13f, acc_l20f, acc_l30f, acc_l13r, acc_l20r, acc_l30r])}\")"
   ]
  },
  {
   "cell_type": "code",
   "execution_count": null,
   "id": "09a68af7-97c7-46c8-952b-86ced3cf37f5",
   "metadata": {},
   "outputs": [],
   "source": [
    "\n",
    "s_cms = [r[\"confusion_matrix\"] for r in svc_results]\n",
    "s_acs = [r[\"accuracy\"] for r in svc_results]\n",
    "l_cms = [r[\"confusion_matrix\"] for r in log_results]\n",
    "l_acs = [r[\"accuracy\"] for r in log_results]\n",
    "\n",
    "sum_s_cm = np.sum(s_cms, axis=0)\n",
    "mean_s_acc = np.mean(s_acs, axis=0)\n",
    "sum_l_cm = np.sum(l_cms, axis=0)\n",
    "mean_l_acc = np.mean(l_acs, axis=0)\n",
    "\n",
    "plt.figure(figsize=(6, 6))\n",
    "sns.heatmap(sum_s_cm, annot=True, fmt=\"d\", cmap=\"Blues\", cbar=False,\n",
    "            xticklabels=[\"calm\",\"happy\",\"sad\",\"angry\",\"fearful\",\"disgust\",\"surprised\"],\n",
    "            yticklabels=[\"calm\",\"happy\",\"sad\",\"angry\",\"fearful\",\"disgust\",\"surprised\"])\n",
    "plt.xlabel(\"Predicted Label\")\n",
    "plt.ylabel(\"True Label\")\n",
    "plt.title(f\"SVC: Confusion Matrix, accuracy: {mean_s_acc:.4f}\")\n",
    "plt.tight_layout()\n",
    "plt.figure(figsize=(6, 6))\n",
    "sns.heatmap(sum_l_cm, annot=True, fmt=\"d\", cmap=\"Blues\", cbar=False,\n",
    "            xticklabels=[\"calm\",\"happy\",\"sad\",\"angry\",\"fearful\",\"disgust\",\"surprised\"],\n",
    "            yticklabels=[\"calm\",\"happy\",\"sad\",\"angry\",\"fearful\",\"disgust\",\"surprised\"])\n",
    "plt.xlabel(\"Predicted Label\")\n",
    "plt.ylabel(\"True Label\")\n",
    "plt.title(f\"LOG: Confusion Matrix, accuracy: {mean_l_acc:.4f}\")\n",
    "plt.tight_layout()\n",
    "plt.show()"
   ]
  }
 ],
 "metadata": {
  "kernelspec": {
   "display_name": "Python 3 (ipykernel)",
   "language": "python",
   "name": "python3"
  },
  "language_info": {
   "codemirror_mode": {
    "name": "ipython",
    "version": 3
   },
   "file_extension": ".py",
   "mimetype": "text/x-python",
   "name": "python",
   "nbconvert_exporter": "python",
   "pygments_lexer": "ipython3",
   "version": "3.10.6"
  }
 },
 "nbformat": 4,
 "nbformat_minor": 5
}
